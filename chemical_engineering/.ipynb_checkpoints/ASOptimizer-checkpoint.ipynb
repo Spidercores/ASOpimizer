{
 "cells": [
  {
   "cell_type": "markdown",
   "id": "64c75df7",
   "metadata": {},
   "source": [
    "## Imporrt library"
   ]
  },
  {
   "cell_type": "code",
   "execution_count": 1,
   "id": "12379c1c",
   "metadata": {},
   "outputs": [
    {
     "ename": "ModuleNotFoundError",
     "evalue": "No module named 'tensorflow'",
     "output_type": "error",
     "traceback": [
      "\u001b[0;31m---------------------------------------------------------------------------\u001b[0m",
      "\u001b[0;31mModuleNotFoundError\u001b[0m                       Traceback (most recent call last)",
      "\u001b[0;32m<ipython-input-1-ce0e50c5e9c2>\u001b[0m in \u001b[0;36m<module>\u001b[0;34m\u001b[0m\n\u001b[0;32m----> 1\u001b[0;31m \u001b[0;32mfrom\u001b[0m \u001b[0mtensorflow\u001b[0m \u001b[0;32mimport\u001b[0m \u001b[0mkeras\u001b[0m\u001b[0;34m\u001b[0m\u001b[0;34m\u001b[0m\u001b[0m\n\u001b[0m\u001b[1;32m      2\u001b[0m \u001b[0;31m# import tensorflow as tf\u001b[0m\u001b[0;34m\u001b[0m\u001b[0;34m\u001b[0m\u001b[0;34m\u001b[0m\u001b[0m\n\u001b[1;32m      3\u001b[0m \u001b[0;32mimport\u001b[0m \u001b[0mpandas\u001b[0m \u001b[0;32mas\u001b[0m \u001b[0mpd\u001b[0m\u001b[0;34m\u001b[0m\u001b[0;34m\u001b[0m\u001b[0m\n\u001b[1;32m      4\u001b[0m \u001b[0;32mfrom\u001b[0m \u001b[0mrandom\u001b[0m \u001b[0;32mimport\u001b[0m \u001b[0msample\u001b[0m\u001b[0;34m\u001b[0m\u001b[0;34m\u001b[0m\u001b[0m\n\u001b[1;32m      5\u001b[0m \u001b[0;32mimport\u001b[0m \u001b[0mnumpy\u001b[0m \u001b[0;32mas\u001b[0m \u001b[0mnp\u001b[0m\u001b[0;34m\u001b[0m\u001b[0;34m\u001b[0m\u001b[0m\n",
      "\u001b[0;31mModuleNotFoundError\u001b[0m: No module named 'tensorflow'"
     ]
    }
   ],
   "source": [
    "# from tensorflow import keras\n",
    "# # import tensorflow as tf\n",
    "import pandas as pd\n",
    "from random import sample\n",
    "import numpy as np\n",
    "\n",
    "from itertools import product\n",
    "from itertools import permutations\n",
    "from itertools import combinations\n",
    "import matplotlib.pyplot as plt\n",
    "from sklearn.metrics import ndcg_score\n",
    "\n",
    "import os"
   ]
  },
  {
   "cell_type": "markdown",
   "id": "9c50d997",
   "metadata": {},
   "source": [
    "## Top 6 sequence predictions, Figure S4"
   ]
  },
  {
   "cell_type": "markdown",
   "id": "a28bb311",
   "metadata": {},
   "source": [
    "### Load predictions"
   ]
  },
  {
   "cell_type": "code",
   "execution_count": null,
   "id": "673adc30",
   "metadata": {},
   "outputs": [],
   "source": [
    "path = './top6/'\n",
    "\n",
    "df_pred = pd.read_csv(path +'predictions_sequence_information.csv' , encoding='cp949')\n",
    "df_smiles = pd.read_csv(path +'smiles.csv' , encoding='cp949')\n",
    "df_modification = pd.read_csv(path +'information.csv' , encoding='cp949')\n",
    "\n",
    "df_pred = df_pred.sort_values(by=['ids'])\n",
    "df_smiles['ids']= np.arange(start=0, stop=len(df_smiles), step=1)\n",
    "\n",
    "conversion_dict={}\n",
    "for ii in range(len(df_smiles)):\n",
    "    conversion_dict[df_smiles.iloc[ii]['ISIS']]=df_smiles.iloc[ii]['ids']\n",
    "interval=6561"
   ]
  },
  {
   "cell_type": "markdown",
   "id": "4d404e62",
   "metadata": {},
   "source": [
    "### Choose Seq id "
   ]
  },
  {
   "cell_type": "code",
   "execution_count": null,
   "id": "b28cfbab",
   "metadata": {},
   "outputs": [],
   "source": [
    "seq_id=4\n",
    "\n",
    "df_target=df_pred[(df_pred['ids']>=seq_id*interval) & (df_pred['ids']<(seq_id+1)*interval)]\n",
    "df_rank=df_target.sort_values(by=['Preds'])\n",
    "rank_list=df_rank['ids'].values[::-1]"
   ]
  },
  {
   "cell_type": "markdown",
   "id": "8ae53c80",
   "metadata": {},
   "source": [
    "### Draw histogram"
   ]
  },
  {
   "cell_type": "code",
   "execution_count": null,
   "id": "08233435",
   "metadata": {
    "scrolled": true
   },
   "outputs": [],
   "source": [
    "ido_path = './histogram/'\n",
    "import matplotlib.pyplot as plt\n",
    "plt.rc('font', size=10)        # 기본 폰트 크기\n",
    "plt.rc('axes', labelsize=15)   # x,y축 label 폰트 크기\n",
    "plt.rc('xtick', labelsize=14)  # x축 눈금 폰트 크기 \n",
    "plt.rc('ytick', labelsize=14)  # y축 눈금 폰트 크기\n",
    "plt.rc('legend', fontsize=10)  # 범례 폰트 크기\n",
    "plt.rc('figure', titlesize=10) # figure title 폰트 크기\n",
    "\n",
    "\n",
    "Seqs=['CAAGGCGCTGTGACTTGTG','CTAGACGTGCAAGGCGC','CAAACTCACGGACTGAGG','CGGACTGAGGGATTTGAT','ACTCACGGACTGAGGGATT','CGCTGTGACTTGTGGTC']\n",
    "\n",
    "proposed_dict=[5619,12180,18830,24759,31863,37881]\n",
    "conv_dict=[6180,12741,19302,25863,32424,38985]\n",
    "raw_dict=[6178,12739,19300,25861,32422,38983]\n",
    "\n",
    "proposed_rank = np.where(rank_list==proposed_dict[seq_id])[0][0]\n",
    "gapmer_rank = np.where(rank_list==conv_dict[seq_id])[0][0]\n",
    "raw_rank = np.where(rank_list==raw_dict[seq_id])[0][0]\n",
    "\n",
    "value_list = df_target['Preds'].values\n",
    "\n",
    "proposed_gapmer = df_target[df_target['ids']==proposed_dict[seq_id]]['Preds'].values[0]\n",
    "conv_gapmer = df_target[df_target['ids']==conv_dict[seq_id]]['Preds'].values[0]\n",
    "raw_gapmer = df_target[df_target['ids']==raw_dict[seq_id]]['Preds'].values[0]\n",
    "\n",
    "# conv_gapmer\n",
    "plt.figure(figsize=(8,6))\n",
    "plt.hist(value_list, density=True, alpha=0.7, color='darkblue',bins=64)\n",
    "\n",
    "plt.annotate('ASOpt'.format(proposed_rank), xytext=(proposed_gapmer-0.05, proposed_gapmer+3), xy=(proposed_gapmer, proposed_gapmer), xycoords='data', \n",
    "        arrowprops=dict(arrowstyle='->', color='yellow', lw=3),fontsize=14)\n",
    "\n",
    "plt.annotate('Gapmer'.format(gapmer_rank), xytext=(conv_gapmer-0.1, conv_gapmer+3), xy=(conv_gapmer, conv_gapmer), xycoords='data', \n",
    "        arrowprops=dict(arrowstyle='->', color='red', lw=3),fontsize=14)\n",
    "\n",
    "plt.annotate('PS'.format(raw_rank), xytext=(raw_gapmer-0.1, raw_gapmer+3), xy=(raw_gapmer, raw_gapmer), xycoords='data', \n",
    "        arrowprops=dict(arrowstyle='->', color='black', lw=3),fontsize=14)\n",
    "\n",
    "plt.xlabel('ASOptimizer score',fontsize=20)\n",
    "plt.ylabel('Frequency',fontsize=20)\n",
    "plt.title('{}'.format(Seqs[seq_id]),fontsize=20)\n",
    "plt.show()"
   ]
  },
  {
   "cell_type": "markdown",
   "id": "61367c6b",
   "metadata": {},
   "source": [
    "## In-silico validation,  Figure S3"
   ]
  },
  {
   "cell_type": "markdown",
   "id": "3bc05ec9",
   "metadata": {},
   "source": [
    "### Load predictions"
   ]
  },
  {
   "cell_type": "code",
   "execution_count": null,
   "id": "727ae7ac",
   "metadata": {},
   "outputs": [],
   "source": [
    "import pandas as pd\n",
    "\n",
    "# 첫 번째 데이터프레임 생성\n",
    "data1 = {'ID': [1, 2, 3, 4],\n",
    "         'Name1': ['Alice', 'Bob', 'Charlie', 'David']}\n",
    "df1 = pd.DataFrame(data1)\n",
    "\n",
    "# 두 번째 데이터프레임 생성\n",
    "data2 = {'ID': [2, 3, 5],\n",
    "         'Name2': ['Eve', 'Frank', 'Grace']}\n",
    "df2 = pd.DataFrame(data2)\n"
   ]
  },
  {
   "cell_type": "code",
   "execution_count": null,
   "id": "c2ed9da1",
   "metadata": {},
   "outputs": [],
   "source": [
    "merged_df = pd.merge(df1, df2, on='ID', how='inner')\n",
    "\n",
    "# 결과 출력\n",
    "print(merged_df)"
   ]
  },
  {
   "cell_type": "code",
   "execution_count": null,
   "id": "0616ccce",
   "metadata": {
    "scrolled": false
   },
   "outputs": [],
   "source": [
    "insilico_path = './insilico/'\n",
    "\n",
    "df_pred = pd.read_csv(insilico_path +'predictions.csv' , encoding='cp949')\n",
    "df_smiles = pd.read_csv(insilico_path +'smiles.csv' , encoding='cp949')\n",
    "df_exp = pd.read_csv(insilico_path +'information.csv' , encoding='cp949')\n",
    "# df_exp.rename({'ISIS':'ids'},axis=1,inplace=True)\n",
    "\n",
    "df_train = pd.read_csv(insilico_path +'train_set_info.csv' , encoding='cp949')\n",
    "df_test = pd.read_csv(insilico_path +'test_set_info.csv' , encoding='cp949')"
   ]
  },
  {
   "cell_type": "code",
   "execution_count": null,
   "id": "9c673b47",
   "metadata": {},
   "outputs": [],
   "source": [
    "rank_ISIS=np.array(list(set(df_pred['ids'].values)))\n",
    "train_ISIS = np.array(list(set(list(set(df_train['front_id'].values))+list(set(df_train['back_id'].values)))))\n",
    "test_ISIS = np.array(list(set(list(set(df_test['front_id'].values))+list(set(df_test['back_id'].values)))))\n",
    "\n",
    "test_id=df_pred['ids'].values\n",
    "df_test_exp = df_exp[df_exp['ISIS'].isin(test_id)]\n",
    "df_test_exp = df_test_exp.astype({'ISIS': 'int32'})\n",
    "\n",
    "unique_seq = df_test_exp[df_test_exp['ISIS'].isin(test_id)]['Sequence'].unique()\n",
    "unique_train_seq = df_exp[df_exp['ISIS'].isin(train_ISIS)]['Sequence'].unique()\n",
    "unique_test_seq = df_exp[df_exp['ISIS'].isin(test_ISIS)]['Sequence'].unique()\n",
    "\n",
    "seqs=[]\n",
    "for ii in unique_seq:\n",
    "    if df_test_exp[df_test_exp['Sequence']==ii].ISIS.nunique()>4:\n",
    "        seqs.append(ii)\n",
    "print('# of test unique sequences above 4 experiments: {}'.format(len(seqs)))"
   ]
  },
  {
   "cell_type": "code",
   "execution_count": null,
   "id": "b8282340",
   "metadata": {},
   "outputs": [],
   "source": [
    "def merge_columns(row):\n",
    "    return tuple(row)\n",
    "\n",
    "def count_duplicates(row):\n",
    "    merged_values = df_test_extract['Merged_Column'].tolist()\n",
    "    return merged_values.count(row)\n",
    "\n",
    "env_columns=['Target_gene','Cell_line','Density(cells/well)','Transfection','ASO_volume(nM)','Treatment_Period(hours)']"
   ]
  },
  {
   "cell_type": "markdown",
   "id": "d1cbc8e2",
   "metadata": {},
   "source": [
    "### Get Pearson Corr and Scatter-plot per each sequence"
   ]
  },
  {
   "cell_type": "code",
   "execution_count": null,
   "id": "1cbf2109",
   "metadata": {
    "scrolled": true
   },
   "outputs": [],
   "source": [
    "pos=0\n",
    "seq_dict={}\n",
    "Corrs=[]\n",
    "lens=[]\n",
    "idx=0\n",
    "accs=[]\n",
    "total_num=0\n",
    "for ii in seqs:\n",
    "\n",
    "    df_test_extract = df_test_exp[df_test_exp['Sequence']==ii].copy()\n",
    "    df_test_extract['Merged_Column'] = df_test_extract[env_columns].apply(merge_columns, axis=1)\n",
    "\n",
    "    df_test_extract['Duplicate_Count'] = df_test_extract['Merged_Column'].apply(count_duplicates)\n",
    "    \n",
    "    df_test_extracted = df_test_extract[df_test_extract['Duplicate_Count'] == df_test_extract['Duplicate_Count'].max()]\n",
    "    df_test_extracted = df_test_extracted.copy()\n",
    "    df_test_extracted['Inhibition(%)_mean'] = df_test_extracted.groupby('ISIS')['Inhibition(%)'].transform('mean')\n",
    "    df_test_extracted = df_test_extracted.astype({'ISIS': 'int32'})\n",
    "    \n",
    "    qq=df_test_exp[df_test_exp['Sequence']==ii].ISIS.unique()\n",
    "    df_preds=df_pred[df_pred['ids'].isin(qq)]\n",
    "    ids=df_preds['ids'].values\n",
    "\n",
    "    gt = np.zeros(len(df_preds))\n",
    "\n",
    "    for jj in range(len(df_preds)):\n",
    "        try: \n",
    "            gt[jj] = df_test_extracted[df_test_extracted['ISIS'] == ids[jj]].iloc[0]['Inhibition(%)_mean']\n",
    "        except ValueError:\n",
    "            gt[jj]='nan'\n",
    "        except IndexError:\n",
    "            gt[jj]='nan'\n",
    "    \n",
    "    df_preds = df_preds.copy()\n",
    "    df_preds['gt'] = gt\n",
    "    \n",
    "    df_preds = df_preds[~df_preds['gt'].isnull()]\n",
    "\n",
    "    preds = df_preds['Preds'].values\n",
    "    gt = df_preds['gt'].values\n",
    "    \n",
    "    arg_preds = preds.argsort()\n",
    "   \n",
    "    preds_combinations_list = list(combinations(preds, 2))\n",
    "    gt_combinations_list = list(combinations(gt, 2))\n",
    "\n",
    "    gt_comparison_results = [\"First is larger\" if val1 > val2 else \"Second is larger\" for val1, val2 in gt_combinations_list]\n",
    "    preds_comparison_results = [\"First is larger\" if val1 > val2 else \"Second is larger\" for val1, val2 in preds_combinations_list]\n",
    "    comparison_results = [element1 == element2 for element1, element2 in zip(gt_comparison_results, preds_comparison_results)]\n",
    "    converted_list = np.array([1 if item else 0 for item in comparison_results])\n",
    "    \n",
    "    acc=converted_list.sum()/len(converted_list)\n",
    "    accs.append(acc)\n",
    "\n",
    "    \n",
    "    plt.figure(figsize=(8, 6))\n",
    "    plt.rc('font', size=10)        # 기본 폰트 크기\n",
    "    plt.rc('axes', labelsize=20) \n",
    "    # plt.rc('t', labelsize=20)  # x,y축 label 폰트 크기\n",
    "    plt.rc('xtick', labelsize=15)  # x축 눈금 폰트 크기 \n",
    "    plt.rc('ytick', labelsize=15)  # y축 눈금 폰트 크기\n",
    "    plt.rc('legend', fontsize=10)  # 범례 폰트 크기\n",
    "    plt.rc('figure', titlesize=10) # figure title 폰트 크기\n",
    "\n",
    "    Corr=df_preds.corr().values[0,1]\n",
    "    Corrs.append(Corr)\n",
    "    lens.append(len(df_preds))\n",
    "    \n",
    "    if Corr==-1:\n",
    "        print(ii)\n",
    "\n",
    "    plt.scatter(gt,100*preds, alpha=0.9,  c='k', s=100)\n",
    "    plt.ylabel('ASOptimizer score')\n",
    "    plt.title('{}'.format(ii),fontsize=20)\n",
    "    plt.xlabel('Experimental inhibition rate(%)')\n",
    "    plt.text(75, 5, f'R={Corr:.4f}', fontsize=20, ha='right',fontstyle='italic', va='bottom')\n",
    "    plt.xlim([0, 100])\n",
    "    plt.ylim([-10, 100])\n",
    "    \n",
    "    plt.savefig(insilico_path +'{}.png'.format(ii), dpi = 500)\n",
    "    plt.show()\n",
    "    idx+=1\n",
    "\n"
   ]
  },
  {
   "cell_type": "code",
   "execution_count": null,
   "id": "8897890c",
   "metadata": {},
   "outputs": [],
   "source": [
    "Corrs = np.array(Corrs)\n",
    "lens=np.array(lens)\n",
    "accs=np.array(accs)\n",
    "Corrs = np.array(Corrs)\n",
    "\n",
    "Corrs_wonan = Corrs[~np.isnan(Corrs)]\n",
    "lens_wonan = lens[~np.isnan(Corrs)]\n",
    "accs_wonan = accs[~np.isnan(Corrs)]\n",
    "\n",
    "lens_wonan=lens_wonan[Corrs_wonan.argsort()]\n",
    "Corrs_wonan.sort()"
   ]
  },
  {
   "cell_type": "code",
   "execution_count": null,
   "id": "75353650",
   "metadata": {},
   "outputs": [],
   "source": [
    "import matplotlib.pyplot as plt\n",
    "plt.style.use('default')\n",
    "\n",
    "plt.figure(figsize=(12, 6))\n",
    "values = Corrs_wonan[1:]\n",
    "counts = lens_wonan[1:]\n",
    "categories = [f'{i+1}' for i in range(len(values))] \n",
    "\n",
    "bars = plt.bar(categories, values, color='black', width=1)\n",
    "\n",
    "plt.xlabel('Sequence index', fontsize=12)\n",
    "plt.ylabel('Pearson Correlation ($\\it{R}$)', fontsize=16)\n",
    "\n",
    "# plt.ylabel(r'$\\textit{Pearson Correlation (R)}$', fontsize=14)\n",
    "plt.xticks(rotation=90, fontsize=8)\n",
    "plt.gcf().set_size_inches(12, 6)\n",
    "plt.xticks(fontsize=8)\n",
    "plt.yticks(fontsize=12)\n",
    "\n",
    "\n",
    "norm = plt.Normalize(min(counts), max(counts))\n",
    "for bar, value in zip(bars, counts):\n",
    "\n",
    "    color = plt.cm.plasma(norm(value))\n",
    "\n",
    "    bar.set_facecolor(color)\n",
    "\n",
    "# Colorbar 설정\n",
    "sm = plt.cm.ScalarMappable(cmap=plt.cm.plasma, norm=norm)\n",
    "sm.set_array([])  \n",
    "cbar = plt.colorbar(sm)\n",
    "cbar.set_label('# of modification patterns', fontsize=12)\n",
    "\n",
    "# 그래프 표시\n",
    "plt.tight_layout()\n",
    "\n",
    "plt.show()\n"
   ]
  },
  {
   "cell_type": "code",
   "execution_count": null,
   "id": "a8386e73",
   "metadata": {},
   "outputs": [],
   "source": [
    "import matplotlib.pyplot as plt\n",
    "plt.style.use('default')\n",
    "\n",
    "plt.figure(figsize=(12, 8))\n",
    "values = Corrs_wonan[1:]\n",
    "categories = [f'sequence_{i+1}' for i in range(len(values))] \n",
    "\n",
    "plt.bar(categories, values, color='k', width=1)\n",
    "\n",
    "plt.title('Bar Graph Example')\n",
    "plt.xlabel('Categories')\n",
    "plt.ylabel('Correlation')\n",
    "plt.xticks(rotation=60, fontsize=10)\n",
    "plt.gcf().set_size_inches(10, 6)\n",
    "\n",
    "\n",
    "plt.tight_layout()\n",
    "plt.show()"
   ]
  }
 ],
 "metadata": {
  "kernelspec": {
   "display_name": "Python 3",
   "language": "python",
   "name": "python3"
  },
  "language_info": {
   "codemirror_mode": {
    "name": "ipython",
    "version": 3
   },
   "file_extension": ".py",
   "mimetype": "text/x-python",
   "name": "python",
   "nbconvert_exporter": "python",
   "pygments_lexer": "ipython3",
   "version": "3.6.9"
  }
 },
 "nbformat": 4,
 "nbformat_minor": 5
}
